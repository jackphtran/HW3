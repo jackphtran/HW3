{
 "cells": [
  {
   "cell_type": "markdown",
   "id": "eec318c5",
   "metadata": {},
   "source": [
    "Part A"
   ]
  },
  {
   "cell_type": "code",
   "execution_count": 8,
   "id": "6ddc52e9",
   "metadata": {},
   "outputs": [
    {
     "name": "stdout",
     "output_type": "stream",
     "text": [
      "L1 norm of vector1: 1.0\n",
      "L2 norm of vector1: 1.0\n",
      "Linf norm of vector1: 1.0\n",
      "L1 norm of vector2: 2.0\n",
      "L2 norm of vector2: 2.0\n",
      "Linf norm of vector2: 2.0\n",
      "L1 norm of vector3: 3.0\n",
      "L2 norm of vector3: 3.0\n",
      "Linf norm of vector3: 3.0\n"
     ]
    }
   ],
   "source": [
    "from numpy import array\n",
    "from numpy.linalg import norm\n",
    "\n",
    "# Create three orthogonal vectors w/ different lengths\n",
    "vector1 = np.array([1, 0])\n",
    "vector2 = np.array([0, 2])\n",
    "vector3 = np.array([3, 0])\n",
    "\n",
    "# Calculate norms\n",
    "print(\"L1 norm of vector1:\", np.linalg.norm(vector1, ord=1))\n",
    "print(\"L2 norm of vector1:\", np.linalg.norm(vector1, ord=2))\n",
    "print(\"Linf norm of vector1:\", np.linalg.norm(vector1, ord=np.inf))\n",
    "\n",
    "print(\"L1 norm of vector2:\", np.linalg.norm(vector2, ord=1))\n",
    "print(\"L2 norm of vector2:\", np.linalg.norm(vector2, ord=2))\n",
    "print(\"Linf norm of vector2:\", np.linalg.norm(vector2, ord=np.inf))\n",
    "\n",
    "print(\"L1 norm of vector3:\", np.linalg.norm(vector3, ord=1))\n",
    "print(\"L2 norm of vector3:\", np.linalg.norm(vector3, ord=2))\n",
    "print(\"Linf norm of vector3:\", np.linalg.norm(vector3, ord=np.inf))\n"
   ]
  },
  {
   "cell_type": "markdown",
   "id": "3f968953",
   "metadata": {},
   "source": [
    "Part B"
   ]
  },
  {
   "cell_type": "code",
   "execution_count": 15,
   "id": "f9404049",
   "metadata": {},
   "outputs": [
    {
     "name": "stdout",
     "output_type": "stream",
     "text": [
      "Orthonormal vectors:\n",
      "Q1 = [-0.47967118 -0.57236779 -0.66506441]\n",
      "Q2 = [ 0.77669099  0.07568647 -0.62531805]\n",
      "Q3 = [ 0.40824829 -0.81649658  0.40824829]\n",
      "L1 norm of Q1: 1.7171033819161865\n",
      "L2 norm of Q1: 0.9999999999999999\n",
      "Linf norm of Q1: 0.6650644100663529\n",
      "L1 norm of Q2: 1.4776955105385605\n",
      "L2 norm of Q2: 1.0\n",
      "Linf norm of Q2: 0.7766909903215593\n",
      "L1 norm of Q3: 1.632993161855452\n",
      "L2 norm of Q3: 0.9999999999999999\n",
      "Linf norm of Q3: 0.8164965809277259\n"
     ]
    }
   ],
   "source": [
    "vector1 = np.array([1, 2, 3])\n",
    "vector2 = np.array([4, 5, 6])\n",
    "vector3 = np.array([7, 8, 9])\n",
    "\n",
    "# Form a matrix where the columns are the vectors\n",
    "A = np.column_stack((vector1, vector2, vector3))\n",
    "\n",
    "# Take SVD of matrix\n",
    "U, S, Vt = np.linalg.svd(A)\n",
    "\n",
    "# Obtain orthonormal basis\n",
    "Q = U\n",
    "\n",
    "print(\"Orthonormal vectors:\")\n",
    "for i in range(Q.shape[1]):\n",
    "    print(\"Q{} = {}\".format(i+1, Q[:,i]))\n",
    "\n",
    "# Calculate norms\n",
    "for i in range(Q.shape[1]):\n",
    "    print(\"L1 norm of Q{}: {}\".format(i+1, np.linalg.norm(Q[:,i], ord=1)))\n",
    "    print(\"L2 norm of Q{}: {}\".format(i+1, np.linalg.norm(Q[:,i], ord=2)))\n",
    "    print(\"Linf norm of Q{}: {}\".format(i+1, np.linalg.norm(Q[:,i], ord=np.inf)))"
   ]
  },
  {
   "cell_type": "markdown",
   "id": "d868f358",
   "metadata": {},
   "source": [
    "Part C"
   ]
  },
  {
   "cell_type": "code",
   "execution_count": 9,
   "id": "7efab392",
   "metadata": {},
   "outputs": [
    {
     "data": {
      "image/png": "[encoded data removed]",
      "text/plain": [
       "<Figure size 640x480 with 1 Axes>"
      ]
     },
     "metadata": {},
     "output_type": "display_data"
    }
   ],
   "source": [
    "import matplotlib.pyplot as plt\n",
    "\n",
    "vector1 = np.array([1, 2])\n",
    "vector2 = np.array([3, 4])\n",
    "\n",
    "# Find the projection of vector1 on vector2\n",
    "projection = np.dot(vector1, vector2) / np.dot(vector2, vector2) * vector2\n",
    "\n",
    "# Plot\n",
    "plt.figure()\n",
    "plt.plot([0, vector1[0]], [0, vector1[1]], '-b', label='vector1')\n",
    "plt.plot([0, vector2[0]], [0, vector2[1]], '-r', label='vector2')\n",
    "plt.plot([0, projection[0]], [0, projection[1]], '-g', label='projection')\n",
    "plt.axis('equal')\n",
    "plt.legend()\n",
    "plt.show()"
   ]
  },
  {
   "cell_type": "markdown",
   "id": "26aa9fd1",
   "metadata": {},
   "source": [
    "Part D"
   ]
  },
  {
   "cell_type": "code",
   "execution_count": null,
   "id": "4a55c14a",
   "metadata": {},
   "outputs": [],
   "source": [
    "###incomplete"
   ]
  },
  {
   "cell_type": "markdown",
   "id": "4be5edce",
   "metadata": {},
   "source": [
    "Part E"
   ]
  },
  {
   "cell_type": "code",
   "execution_count": 11,
   "id": "221c2900",
   "metadata": {},
   "outputs": [
    {
     "name": "stdout",
     "output_type": "stream",
     "text": [
      "x = 1.857142857142857, y = 0.7142857142857142\n"
     ]
    }
   ],
   "source": [
    "#Consider the two linear equations:\n",
    "#3x + 2y = 7\n",
    "#x - 4y = -1\n",
    "\n",
    "# Define the matrix A and vector b\n",
    "a = np.array([[3, 2], [1, -4]])\n",
    "b = np.array([7, -1])\n",
    "\n",
    "# Calculate the inverse of matrix A\n",
    "a_inv = np.linalg.inv(a)\n",
    "\n",
    "# Calculate the solution for x and y\n",
    "x = np.dot(a_inv, b)\n",
    "\n",
    "print(\"x = {}, y = {}\".format(x[0], x[1]))"
   ]
  },
  {
   "cell_type": "markdown",
   "id": "3380cc52",
   "metadata": {},
   "source": [
    "Part F"
   ]
  },
  {
   "cell_type": "code",
   "execution_count": null,
   "id": "69628296",
   "metadata": {},
   "outputs": [],
   "source": [
    "###incomplete"
   ]
  }
 ],
 "metadata": {
  "kernelspec": {
   "display_name": "Python 3 (ipykernel)",
   "language": "python",
   "name": "python3"
  },
  "language_info": {
   "codemirror_mode": {
    "name": "ipython",
    "version": 3
   },
   "file_extension": ".py",
   "mimetype": "text/x-python",
   "name": "python",
   "nbconvert_exporter": "python",
   "pygments_lexer": "ipython3",
   "version": "3.9.13"
  }
 },
 "nbformat": 4,
 "nbformat_minor": 5
}
